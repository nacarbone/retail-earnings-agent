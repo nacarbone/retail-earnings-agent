{
 "cells": [
  {
   "cell_type": "code",
   "execution_count": 1,
   "id": "adopted-folder",
   "metadata": {},
   "outputs": [],
   "source": [
    "import pandas as pd"
   ]
  },
  {
   "cell_type": "code",
   "execution_count": 23,
   "id": "significant-residence",
   "metadata": {},
   "outputs": [],
   "source": [
    "import re"
   ]
  },
  {
   "cell_type": "code",
   "execution_count": 4,
   "id": "grand-rotation",
   "metadata": {},
   "outputs": [],
   "source": [
    "with open('profiler_results.txt', 'r') as f:\n",
    "    results = f.readlines()"
   ]
  },
  {
   "cell_type": "code",
   "execution_count": 25,
   "id": "daily-doubt",
   "metadata": {},
   "outputs": [],
   "source": [
    "total_pattern = '[0-9.]+'\n",
    "total_expr = re.compile(total_pattern)\n",
    "\n",
    "total_line = results[0]\n",
    "total_func_calls, total_prim_calls, total_time = re.findall(\n",
    "    total_expr, total_line)"
   ]
  },
  {
   "cell_type": "code",
   "execution_count": 50,
   "id": "coated-relief",
   "metadata": {},
   "outputs": [],
   "source": [
    "col_names = results[4]\n",
    "col_names = col_names.strip().split('  ')\n",
    "col_names = col_names[:-1] + col_names[-1].split(' ')"
   ]
  },
  {
   "cell_type": "code",
   "execution_count": 84,
   "id": "characteristic-mozambique",
   "metadata": {},
   "outputs": [],
   "source": [
    "data_lines = results[5:-2]\n",
    "data_lines = [line.strip() for line in data_lines]\n",
    "data_lines = [line.split('   ') for line in data_lines]\n",
    "data_lines = [[item.strip() for item in line]  for line in data_lines]\n",
    "data_lines = [line[:-1] + line[-1].split(' ', 1) for line in data_lines]"
   ]
  },
  {
   "cell_type": "code",
   "execution_count": 86,
   "id": "developing-median",
   "metadata": {},
   "outputs": [],
   "source": [
    "df = pd.DataFrame(data_lines, columns=col_names)\n",
    "df = df.loc[:,~df.columns.duplicated()]\n",
    "df[['func_calls', 'prim_calls']] = df['ncalls'].str.split('/', expand=True)\n",
    "num_cols = ['func_calls', 'prim_calls', 'tottime', 'percall', 'cumtime']\n",
    "df[num_cols] = df[num_cols].astype(float)"
   ]
  },
  {
   "cell_type": "code",
   "execution_count": 113,
   "id": "coupled-ending",
   "metadata": {},
   "outputs": [
    {
     "name": "stdout",
     "output_type": "stream",
     "text": [
      "func_calls : 30 | prim_calls: nan | tottime: 10.82 | percall: 0.36 | cumtime: 10.82 | function: /home/nicholas/miniconda3/envs/fin-env/lib/python3.8/site-packages/ray/rllib/policy/sample_batch.py:213(shuffle)\n",
      "func_calls : 1 | prim_calls: nan | tottime: 0.12 | percall: 0.12 | cumtime: 32.18 | function: /home/nicholas/miniconda3/envs/fin-env/lib/python3.8/site-packages/ray/rllib/utils/sgd.py:102(do_minibatch_sgd)\n",
      "func_calls : 2 | prim_calls: nan | tottime: 0.03 | percall: 0.02 | cumtime: 0.03 | function: /home/nicholas/miniconda3/envs/fin-env/lib/python3.8/json/decoder.py:343(raw_decode)\n",
      "func_calls : 2 | prim_calls: nan | tottime: 0.03 | percall: 0.01 | cumtime: 6.24 | function: /home/nicholas/miniconda3/envs/fin-env/lib/python3.8/site-packages/ray/rllib/evaluation/sampler.py:452(_env_runner)\n",
      "func_calls : 150 | prim_calls: nan | tottime: 1.10 | percall: 0.01 | cumtime: 1.10 | function: {method 'run_backward' of 'torch._C._EngineBase' objects}\n",
      "func_calls : 2 | prim_calls: nan | tottime: 0.00 | percall: 0.00 | cumtime: 0.05 | function: /home/nicholas/Desktop/CARBONE-NICHOLAS/market-env/market_env/envs/market_env.py:153(reset)\n",
      "func_calls : 12933 | prim_calls: nan | tottime: 9.86 | percall: 0.00 | cumtime: 9.86 | function: {method 'to' of 'torch._C._TensorBase' objects}\n",
      "func_calls : 300 | prim_calls: nan | tottime: 0.27 | percall: 0.00 | cumtime: 0.32 | function: /home/nicholas/miniconda3/envs/fin-env/lib/python3.8/site-packages/torch/distributions/kl.py:214(_kl_categorical_categorical)\n",
      "func_calls : 1 | prim_calls: nan | tottime: 0.00 | percall: 0.00 | cumtime: 0.00 | function: {method 'clear' of 'dict' objects}\n",
      "func_calls : 1 | prim_calls: nan | tottime: 0.00 | percall: 0.00 | cumtime: 0.00 | function: {built-in method _pickle.dumps}\n",
      "func_calls : 2 | prim_calls: nan | tottime: 0.00 | percall: 0.00 | cumtime: 0.00 | function: /home/nicholas/miniconda3/envs/fin-env/lib/python3.8/site-packages/tensorboardX/writer.py:471(add_histogram)\n"
     ]
    }
   ],
   "source": [
    "s = 'func_calls : {:.0f} | prim_calls: {:.0f} | tottime: {:.2f} | percall: {:.2f} | cumtime: {:.2f} | function: {}'\n",
    "i = 0\n",
    "for row in df.sort_values('percall', ascending=False).iterrows():\n",
    "    row = row[1]\n",
    "    s_row = s.format(\n",
    "        row['func_calls'],\n",
    "        row['prim_calls'],\n",
    "        row['tottime'],\n",
    "        row['percall'],\n",
    "        row['cumtime'],\n",
    "        row['filename:lineno(function)']\n",
    "    )\n",
    "    \n",
    "    print(s_row)\n",
    "    i += 1\n",
    "    if i > 10:\n",
    "        break"
   ]
  },
  {
   "cell_type": "code",
   "execution_count": 115,
   "id": "small-london",
   "metadata": {},
   "outputs": [
    {
     "name": "stdout",
     "output_type": "stream",
     "text": [
      "func_calls : 30 | prim_calls: nan | tottime: 10.82 | percall: 0.36 | cumtime: 10.82 | function: /home/nicholas/miniconda3/envs/fin-env/lib/python3.8/site-packages/ray/rllib/policy/sample_batch.py:213(shuffle)\n",
      "func_calls : 12933 | prim_calls: nan | tottime: 9.86 | percall: 0.00 | cumtime: 9.86 | function: {method 'to' of 'torch._C._TensorBase' objects}\n",
      "func_calls : 482838 | prim_calls: nan | tottime: 5.00 | percall: 0.00 | cumtime: 5.00 | function: {method 'item' of 'torch._C._TensorBase' objects}\n",
      "func_calls : 14073 | prim_calls: nan | tottime: 1.24 | percall: 0.00 | cumtime: 1.24 | function: {built-in method numpy.array}\n",
      "func_calls : 3324 | prim_calls: nan | tottime: 1.20 | percall: 0.00 | cumtime: 3.62 | function: /home/nicholas/Desktop/CARBONE-NICHOLAS/model.py:121(<listcomp>)\n",
      "func_calls : 3324 | prim_calls: nan | tottime: 1.19 | percall: 0.00 | cumtime: 3.77 | function: /home/nicholas/Desktop/CARBONE-NICHOLAS/model.py:126(<listcomp>)\n",
      "func_calls : 150 | prim_calls: nan | tottime: 1.10 | percall: 0.01 | cumtime: 1.10 | function: {method 'run_backward' of 'torch._C._EngineBase' objects}\n",
      "func_calls : 6648 | prim_calls: nan | tottime: 0.93 | percall: 0.00 | cumtime: 0.93 | function: {built-in method stack}\n",
      "func_calls : 13233 | prim_calls: nan | tottime: 0.52 | percall: 0.00 | cumtime: 0.52 | function: {built-in method addmm}\n",
      "func_calls : 6648 | prim_calls: nan | tottime: 0.51 | percall: 0.00 | cumtime: 0.51 | function: {method 'unbind' of 'torch._C._TensorBase' objects}\n",
      "func_calls : 3474 | prim_calls: nan | tottime: 0.40 | percall: 0.00 | cumtime: 0.40 | function: {method 'logsumexp' of 'torch._C._TensorBase' objects}\n"
     ]
    }
   ],
   "source": [
    "s = 'func_calls : {:.0f} | prim_calls: {:.0f} | tottime: {:.2f} | percall: {:.2f} | cumtime: {:.2f} | function: {}'\n",
    "i = 0\n",
    "for row in df.sort_values('tottime', ascending=False).iterrows():\n",
    "    row = row[1]\n",
    "    s_row = s.format(\n",
    "        row['func_calls'],\n",
    "        row['prim_calls'],\n",
    "        row['tottime'],\n",
    "        row['percall'],\n",
    "        row['cumtime'],\n",
    "        row['filename:lineno(function)']\n",
    "    )\n",
    "    \n",
    "    print(s_row)\n",
    "    i += 1\n",
    "    if i > 10:\n",
    "        break"
   ]
  },
  {
   "cell_type": "code",
   "execution_count": 117,
   "id": "southern-foster",
   "metadata": {},
   "outputs": [
    {
     "name": "stdout",
     "output_type": "stream",
     "text": [
      "func_calls : 1 | prim_calls: nan | tottime: 0.00 | percall: 0.00 | cumtime: 38.45 | function: /home/nicholas/Desktop/CARBONE-NICHOLAS/train.py:87(train)\n",
      "func_calls : 1 | prim_calls: nan | tottime: 0.00 | percall: 0.00 | cumtime: 38.44 | function: /home/nicholas/miniconda3/envs/fin-env/lib/python3.8/site-packages/ray/tune/trainable.py:185(train)\n",
      "func_calls : 1 | prim_calls: nan | tottime: 0.00 | percall: 0.00 | cumtime: 38.44 | function: /home/nicholas/miniconda3/envs/fin-env/lib/python3.8/site-packages/ray/rllib/agents/trainer.py:516(train)\n",
      "func_calls : 16 | prim_calls: 1 | tottime: 0.00 | percall: 0.00 | cumtime: 38.43 | function: /home/nicholas/miniconda3/envs/fin-env/lib/python3.8/site-packages/ray/util/iter.py:782(apply_foreach)\n",
      "func_calls : 1 | prim_calls: nan | tottime: 0.00 | percall: 0.00 | cumtime: 38.43 | function: /home/nicholas/miniconda3/envs/fin-env/lib/python3.8/site-packages/ray/util/iter.py:754(__next__)\n",
      "func_calls : 1 | prim_calls: nan | tottime: 0.00 | percall: 0.00 | cumtime: 38.43 | function: /home/nicholas/miniconda3/envs/fin-env/lib/python3.8/site-packages/ray/rllib/agents/trainer_template.py:146(step)\n",
      "func_calls : 3 | prim_calls: 1 | tottime: 0.00 | percall: 0.00 | cumtime: 38.43 | function: /home/nicholas/miniconda3/envs/fin-env/lib/python3.8/site-packages/ray/util/iter.py:842(apply_filter)\n",
      "func_calls : 182 | prim_calls: 3 | tottime: 0.00 | percall: 0.00 | cumtime: 38.43 | function: {built-in method builtins.next}\n",
      "func_calls : 1 | prim_calls: nan | tottime: 0.00 | percall: 0.00 | cumtime: 32.18 | function: /home/nicholas/miniconda3/envs/fin-env/lib/python3.8/site-packages/ray/rllib/execution/train_ops.py:55(__call__)\n",
      "func_calls : 1 | prim_calls: nan | tottime: 0.12 | percall: 0.12 | cumtime: 32.18 | function: /home/nicholas/miniconda3/envs/fin-env/lib/python3.8/site-packages/ray/rllib/utils/sgd.py:102(do_minibatch_sgd)\n",
      "func_calls : 1437 | prim_calls: 1287 | tottime: 0.01 | percall: 0.00 | cumtime: 25.14 | function: /home/nicholas/miniconda3/envs/fin-env/lib/python3.8/site-packages/ray/rllib/utils/threading.py:18(wrapper)\n",
      "func_calls : 150 | prim_calls: nan | tottime: 0.00 | percall: 0.00 | cumtime: 21.22 | function: /home/nicholas/miniconda3/envs/fin-env/lib/python3.8/site-packages/ray/rllib/evaluation/rollout_worker.py:838(learn_on_batch)\n",
      "func_calls : 150 | prim_calls: nan | tottime: 0.00 | percall: 0.00 | cumtime: 21.22 | function: /home/nicholas/miniconda3/envs/fin-env/lib/python3.8/site-packages/ray/rllib/policy/torch_policy.py:340(learn_on_batch)\n",
      "func_calls : 150 | prim_calls: nan | tottime: 0.02 | percall: 0.00 | cumtime: 20.88 | function: /home/nicholas/miniconda3/envs/fin-env/lib/python3.8/site-packages/ray/rllib/policy/torch_policy.py:368(compute_gradients)\n",
      "func_calls : 150 | prim_calls: nan | tottime: 0.06 | percall: 0.00 | cumtime: 19.54 | function: /home/nicholas/miniconda3/envs/fin-env/lib/python3.8/site-packages/ray/rllib/agents/ppo/ppo_torch_policy.py:30(ppo_surrogate_loss)\n",
      "func_calls : 51495 | prim_calls: 9909 | tottime: 0.23 | percall: 0.00 | cumtime: 10.88 | function: /home/nicholas/miniconda3/envs/fin-env/lib/python3.8/site-packages/torch/nn/modules/module.py:715(_call_impl)\n",
      "func_calls : 180 | prim_calls: nan | tottime: 0.00 | percall: 0.00 | cumtime: 10.83 | function: /home/nicholas/miniconda3/envs/fin-env/lib/python3.8/site-packages/ray/rllib/utils/sgd.py:48(minibatches)\n",
      "func_calls : 30 | prim_calls: nan | tottime: 10.82 | percall: 0.36 | cumtime: 10.82 | function: /home/nicholas/miniconda3/envs/fin-env/lib/python3.8/site-packages/ray/rllib/policy/sample_batch.py:213(shuffle)\n",
      "func_calls : 1287 | prim_calls: nan | tottime: 0.02 | percall: 0.00 | cumtime: 10.63 | function: /home/nicholas/miniconda3/envs/fin-env/lib/python3.8/site-packages/ray/rllib/models/modelv2.py:177(__call__)\n",
      "func_calls : 8173 | prim_calls: nan | tottime: 0.04 | percall: 0.00 | cumtime: 10.28 | function: /home/nicholas/miniconda3/envs/fin-env/lib/python3.8/site-packages/tree/__init__.py:465(map_structure)\n",
      "func_calls : 3324 | prim_calls: nan | tottime: 0.30 | percall: 0.00 | cumtime: 10.14 | function: /home/nicholas/Desktop/CARBONE-NICHOLAS/model.py:102(forward)\n"
     ]
    }
   ],
   "source": [
    "s = 'func_calls : {:.0f} | prim_calls: {:.0f} | tottime: {:.2f} | percall: {:.2f} | cumtime: {:.2f} | function: {}'\n",
    "i = 0\n",
    "for row in df.sort_values('cumtime', ascending=False).iterrows():\n",
    "    row = row[1]\n",
    "    s_row = s.format(\n",
    "        row['func_calls'],\n",
    "        row['prim_calls'],\n",
    "        row['tottime'],\n",
    "        row['percall'],\n",
    "        row['cumtime'],\n",
    "        row['filename:lineno(function)']\n",
    "    )\n",
    "    \n",
    "    print(s_row)\n",
    "    i += 1\n",
    "    if i > 20:\n",
    "        break"
   ]
  },
  {
   "cell_type": "code",
   "execution_count": null,
   "id": "attempted-combat",
   "metadata": {},
   "outputs": [],
   "source": []
  }
 ],
 "metadata": {
  "kernelspec": {
   "display_name": "Finance",
   "language": "python",
   "name": "myenv"
  },
  "language_info": {
   "codemirror_mode": {
    "name": "ipython",
    "version": 3
   },
   "file_extension": ".py",
   "mimetype": "text/x-python",
   "name": "python",
   "nbconvert_exporter": "python",
   "pygments_lexer": "ipython3",
   "version": "3.8.5"
  }
 },
 "nbformat": 4,
 "nbformat_minor": 5
}

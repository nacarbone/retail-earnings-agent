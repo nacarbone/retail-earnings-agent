{
 "cells": [
  {
   "cell_type": "code",
   "execution_count": 1,
   "metadata": {},
   "outputs": [],
   "source": [
    "from sqlalchemy import *\n",
    "from sqlalchemy.orm import sessionmaker\n",
    "from sqlalchemy.ext.automap import automap_base\n",
    "\n",
    "db_path = 'chinook.db'\n",
    "engine = create_engine('sqlite:///{}'.format(db_path))"
   ]
  },
  {
   "cell_type": "code",
   "execution_count": 2,
   "metadata": {},
   "outputs": [],
   "source": [
    "Base = automap_base()\n",
    "Base.prepare(engine, reflect=True)"
   ]
  },
  {
   "cell_type": "code",
   "execution_count": 3,
   "metadata": {},
   "outputs": [],
   "source": [
    "albums = Base.classes.albums\n",
    "artists = Base.classes.artists\n",
    "customers = Base.classes.customers\n",
    "invoice_items = Base.classes.invoice_items\n",
    "invoices = Base.classes.invoices\n",
    "tracks = Base.classes.tracks"
   ]
  },
  {
   "cell_type": "code",
   "execution_count": 4,
   "metadata": {},
   "outputs": [],
   "source": [
    "Session = sessionmaker(bind=engine)\n",
    "session = Session()"
   ]
  },
  {
   "cell_type": "code",
   "execution_count": 5,
   "metadata": {},
   "outputs": [],
   "source": [
    "result = session \\\n",
    "    .query(artists.Name, func.sum(invoice_items.Quantity * invoice_items.UnitPrice)) \\\n",
    "    .join(tracks, tracks.TrackId == invoice_items.TrackId) \\\n",
    "    .join(albums, albums.AlbumId == tracks.AlbumId) \\\n",
    "    .join(artists, artists.ArtistId == albums.ArtistId) \\\n",
    "    .join(invoices, invoices.InvoiceId == invoice_items.InvoiceId) \\\n",
    "    .join(customers, customers.CustomerId == invoices.CustomerId) \\\n",
    "    .filter_by(State='CA') \\\n",
    "    .group_by(artists.Name) \\\n",
    "    .order_by(func.sum(invoice_items.Quantity * invoice_items.UnitPrice).desc()) \\\n",
    "    .limit(3)"
   ]
  },
  {
   "cell_type": "code",
   "execution_count": 6,
   "metadata": {},
   "outputs": [
    {
     "name": "stdout",
     "output_type": "stream",
     "text": [
      "('Iron Maiden', Decimal('19.80'))\n",
      "('Eric Clapton', Decimal('8.91'))\n",
      "('The Office', Decimal('5.97'))\n"
     ]
    },
    {
     "name": "stderr",
     "output_type": "stream",
     "text": [
      "/opt/miniconda3/envs/fin-env/lib/python3.8/site-packages/sqlalchemy/sql/sqltypes.py:661: SAWarning: Dialect sqlite+pysqlite does *not* support Decimal objects natively, and SQLAlchemy must convert from floating point - rounding errors and other issues may occur. Please consider storing Decimal numbers as strings or integers on this platform for lossless storage.\n",
      "  util.warn(\n"
     ]
    }
   ],
   "source": [
    "for i in result:\n",
    "    print(i)"
   ]
  }
 ],
 "metadata": {
  "kernelspec": {
   "display_name": "Finance",
   "language": "python",
   "name": "fin-env"
  },
  "language_info": {
   "codemirror_mode": {
    "name": "ipython",
    "version": 3
   },
   "file_extension": ".py",
   "mimetype": "text/x-python",
   "name": "python",
   "nbconvert_exporter": "python",
   "pygments_lexer": "ipython3",
   "version": "3.8.5"
  }
 },
 "nbformat": 4,
 "nbformat_minor": 4
}

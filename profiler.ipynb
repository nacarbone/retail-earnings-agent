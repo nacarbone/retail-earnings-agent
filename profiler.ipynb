{
 "cells": [
  {
   "cell_type": "code",
   "execution_count": 1,
   "id": "auburn-michigan",
   "metadata": {},
   "outputs": [
    {
     "name": "stderr",
     "output_type": "stream",
     "text": [
      "2021-02-16 10:25:00,618\tINFO services.py:1193 -- View the Ray dashboard at \u001b[1m\u001b[32mhttp://127.0.0.1:8265\u001b[39m\u001b[22m\n",
      "2021-02-16 10:25:01,349\tINFO trainer.py:650 -- Current log_level is WARN. For more information, set 'log_level': 'INFO' / 'DEBUG' or use the -v and -vv flags.\n",
      "/home/nicholas/miniconda3/envs/fin-env/lib/python3.8/site-packages/gym/logger.py:30: UserWarning: \u001b[33mWARN: Box bound precision lowered by casting to float32\u001b[0m\n",
      "  warnings.warn(colorize('%s: %s'%('WARN', msg % args), 'yellow'))\n",
      "2021-02-16 10:25:03,672\tWARNING util.py:53 -- Install gputil for GPU system monitoring.\n"
     ]
    },
    {
     "name": "stdout",
     "output_type": "stream",
     "text": [
      "10:25:32 --  1 reward  -0.10/ -0.10/ -0.10 len 1137.00 saved ray_results/checkpoint_1/checkpoint-1\n"
     ]
    }
   ],
   "source": [
    "import cProfile\n",
    "import pstats\n",
    "import io\n",
    "\n",
    "import ray\n",
    "\n",
    "from train import TrainingHelper\n",
    "\n",
    "\n",
    "if __name__ == '__main__':\n",
    "    ray.shutdown()\n",
    "    ray.init(ignore_reinit_error=True)\n",
    "    training_helper = TrainingHelper(custom_ppo_config={'num_gpus' : 1})\n",
    "\n",
    "    pr = cProfile.Profile()\n",
    "\n",
    "    pr.enable()\n",
    "    training_helper.train(1)\n",
    "    pr.disable()\n",
    "    \n",
    "    s = io.StringIO()\n",
    "    ps = pstats.Stats(pr, stream=s).sort_stats('tottime')\n",
    "    ps.print_stats()\n",
    "\n",
    "    with open('profiler_results_new.txt', 'w+') as f:\n",
    "        f.write(s.getvalue())"
   ]
  }
 ],
 "metadata": {
  "kernelspec": {
   "display_name": "Finance",
   "language": "python",
   "name": "myenv"
  },
  "language_info": {
   "codemirror_mode": {
    "name": "ipython",
    "version": 3
   },
   "file_extension": ".py",
   "mimetype": "text/x-python",
   "name": "python",
   "nbconvert_exporter": "python",
   "pygments_lexer": "ipython3",
   "version": "3.8.5"
  }
 },
 "nbformat": 4,
 "nbformat_minor": 5
}
